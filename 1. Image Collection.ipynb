{
 "cells": [
  {
   "cell_type": "markdown",
   "metadata": {},
   "source": [
    "# 1. Import Dependencies"
   ]
  },
  {
   "cell_type": "code",
   "execution_count": 1,
   "metadata": {},
   "outputs": [
    {
     "name": "stdout",
     "output_type": "stream",
     "text": [
      "Collecting opencv-python\n",
      "  Downloading opencv_python-4.5.5.62-cp36-abi3-win_amd64.whl (35.4 MB)\n",
      "Requirement already satisfied: numpy>=1.14.5 in h:\\jupyter projects\\tfod\\tfodcourse\\tfod\\lib\\site-packages (from opencv-python) (1.21.5)\n",
      "Installing collected packages: opencv-python\n",
      "Successfully installed opencv-python-4.5.5.62\n"
     ]
    }
   ],
   "source": [
    "!pip install opencv-python"
   ]
  },
  {
   "cell_type": "code",
   "execution_count": 3,
   "metadata": {},
   "outputs": [],
   "source": [
    "# Import opencv\n",
    "import cv2 \n",
    "\n",
    "# Import uuid\n",
    "import uuid\n",
    "\n",
    "# Import Operating System\n",
    "import os\n",
    "\n",
    "# Import time\n",
    "import time"
   ]
  },
  {
   "cell_type": "markdown",
   "metadata": {},
   "source": [
    "# 2. Define Images to Collect"
   ]
  },
  {
   "cell_type": "code",
   "execution_count": 4,
   "metadata": {},
   "outputs": [],
   "source": [
    "labels = ['apple', 'banana', 'mango', 'orange']\n",
    "number_imgs = 20"
   ]
  },
  {
   "cell_type": "markdown",
   "metadata": {},
   "source": [
    "# 3. Setup Folders "
   ]
  },
  {
   "cell_type": "code",
   "execution_count": 5,
   "metadata": {},
   "outputs": [],
   "source": [
    "IMAGES_PATH = os.path.join('Tensorflow', 'workspace', 'images', 'collectedimages')"
   ]
  },
  {
   "cell_type": "code",
   "execution_count": 6,
   "metadata": {},
   "outputs": [],
   "source": [
    "if not os.path.exists(IMAGES_PATH):\n",
    "    if os.name == 'posix':\n",
    "        !mkdir -p {IMAGES_PATH}\n",
    "    if os.name == 'nt':\n",
    "         !mkdir {IMAGES_PATH}\n",
    "for label in labels:\n",
    "    path = os.path.join(IMAGES_PATH, label)\n",
    "    if not os.path.exists(path):\n",
    "        !mkdir {path}"
   ]
  },
  {
   "cell_type": "markdown",
   "metadata": {},
   "source": [
    "# 4. Capture Images"
   ]
  },
  {
   "cell_type": "code",
   "execution_count": 7,
   "metadata": {},
   "outputs": [],
   "source": [
    "# for label in labels:\n",
    "#     cap = cv2.VideoCapture(0)\n",
    "#     print('Collecting images for {}'.format(label))\n",
    "#     time.sleep(5)\n",
    "#     for imgnum in range(number_imgs):\n",
    "#         print('Collecting image {}'.format(imgnum))\n",
    "#         ret, frame = cap.read()\n",
    "#         imgname = os.path.join(IMAGES_PATH,label,label+'.'+'{}.jpg'.format(str(uuid.uuid1())))\n",
    "#         cv2.imwrite(imgname, frame)\n",
    "#         cv2.imshow('frame', frame)\n",
    "#         time.sleep(2)\n",
    "\n",
    "#         if cv2.waitKey(1) & 0xFF == ord('q'):\n",
    "#             break\n",
    "# cap.release()\n",
    "# cv2.destroyAllWindows()"
   ]
  },
  {
   "cell_type": "markdown",
   "metadata": {},
   "source": [
    "# 5. Image Labelling"
   ]
  },
  {
   "cell_type": "code",
   "execution_count": 8,
   "metadata": {},
   "outputs": [
    {
     "name": "stdout",
     "output_type": "stream",
     "text": [
      "Requirement already satisfied: pyqt5 in c:\\users\\meshkat shadik\\appdata\\local\\programs\\python\\python39\\lib\\site-packages (5.15.6)\n",
      "Requirement already satisfied: lxml in c:\\users\\meshkat shadik\\appdata\\local\\programs\\python\\python39\\lib\\site-packages (4.8.0)\n",
      "Requirement already satisfied: PyQt5-Qt5>=5.15.2 in c:\\users\\meshkat shadik\\appdata\\local\\programs\\python\\python39\\lib\\site-packages (from pyqt5) (5.15.2)\n",
      "Requirement already satisfied: PyQt5-sip<13,>=12.8 in c:\\users\\meshkat shadik\\appdata\\local\\programs\\python\\python39\\lib\\site-packages (from pyqt5) (12.9.0)\n"
     ]
    },
    {
     "name": "stderr",
     "output_type": "stream",
     "text": [
      "WARNING: You are using pip version 21.3.1; however, version 22.0.4 is available.\n",
      "You should consider upgrading via the 'C:\\Users\\Meshkat Shadik\\AppData\\Local\\Programs\\Python\\Python39\\python.exe -m pip install --upgrade pip' command.\n"
     ]
    }
   ],
   "source": [
    "!pip install --upgrade pyqt5 lxml"
   ]
  },
  {
   "cell_type": "code",
   "execution_count": 9,
   "metadata": {},
   "outputs": [],
   "source": [
    "LABELIMG_PATH = os.path.join('Tensorflow', 'labelimg')"
   ]
  },
  {
   "cell_type": "code",
   "execution_count": 10,
   "metadata": {},
   "outputs": [],
   "source": [
    "if not os.path.exists(LABELIMG_PATH):\n",
    "    !mkdir {LABELIMG_PATH}\n",
    "    !git clone https://github.com/tzutalin/labelImg {LABELIMG_PATH}"
   ]
  },
  {
   "cell_type": "code",
   "execution_count": 11,
   "metadata": {},
   "outputs": [],
   "source": [
    "if os.name == 'posix':\n",
    "    !make qt5py3\n",
    "if os.name =='nt':\n",
    "    !cd {LABELIMG_PATH} && pyrcc5 -o libs/resources.py resources.qrc"
   ]
  },
  {
   "cell_type": "code",
   "execution_count": 12,
   "metadata": {},
   "outputs": [
    {
     "name": "stdout",
     "output_type": "stream",
     "text": [
      "Image:H:\\Jupyter Projects\\TFOD\\TFODCourse\\Tensorflow\\workspace\\images\\collectedimages\\orange\\1.jpg -> Annotation:H:/Jupyter Projects/TFOD/TFODCourse/Tensorflow/workspace/images/collectedimages/banana\\1.xml\n",
      "Image:H:\\Jupyter Projects\\TFOD\\TFODCourse\\Tensorflow\\workspace\\images\\collectedimages\\orange\\2.jpg -> Annotation:H:/Jupyter Projects/TFOD/TFODCourse/Tensorflow/workspace/images/collectedimages/banana\\2.xml\n",
      "Image:H:\\Jupyter Projects\\TFOD\\TFODCourse\\Tensorflow\\workspace\\images\\collectedimages\\orange\\3.jpg -> Annotation:H:/Jupyter Projects/TFOD/TFODCourse/Tensorflow/workspace/images/collectedimages/banana\\3.xml\n",
      "Image:H:\\Jupyter Projects\\TFOD\\TFODCourse\\Tensorflow\\workspace\\images\\collectedimages\\orange\\4.jpg -> Annotation:H:/Jupyter Projects/TFOD/TFODCourse/Tensorflow/workspace/images/collectedimages/banana\\4.xml\n",
      "Image:H:\\Jupyter Projects\\TFOD\\TFODCourse\\Tensorflow\\workspace\\images\\collectedimages\\orange\\5.jpg -> Annotation:H:/Jupyter Projects/TFOD/TFODCourse/Tensorflow/workspace/images/collectedimages/banana\\5.xml\n",
      "Image:H:\\Jupyter Projects\\TFOD\\TFODCourse\\Tensorflow\\workspace\\images\\collectedimages\\orange\\9.jpg -> Annotation:H:/Jupyter Projects/TFOD/TFODCourse/Tensorflow/workspace/images/collectedimages/banana\\9.xml\n",
      "Image:H:\\Jupyter Projects\\TFOD\\TFODCourse\\Tensorflow\\workspace\\images\\collectedimages\\orange\\10.jpg -> Annotation:H:/Jupyter Projects/TFOD/TFODCourse/Tensorflow/workspace/images/collectedimages/banana\\10.xml\n",
      "Image:H:\\Jupyter Projects\\TFOD\\TFODCourse\\Tensorflow\\workspace\\images\\collectedimages\\orange\\13.jpg -> Annotation:H:/Jupyter Projects/TFOD/TFODCourse/Tensorflow/workspace/images/collectedimages/banana\\13.xml\n",
      "Image:H:\\Jupyter Projects\\TFOD\\TFODCourse\\Tensorflow\\workspace\\images\\collectedimages\\orange\\1.jpg -> Annotation:H:/Jupyter Projects/TFOD/TFODCourse/Tensorflow/workspace/images/collectedimages/banana\\1.xml\n",
      "Image:H:\\Jupyter Projects\\TFOD\\TFODCourse\\Tensorflow\\workspace\\images\\collectedimages\\orange\\2.jpg -> Annotation:H:/Jupyter Projects/TFOD/TFODCourse/Tensorflow/workspace/images/collectedimages/banana\\2.xml\n",
      "Image:H:\\Jupyter Projects\\TFOD\\TFODCourse\\Tensorflow\\workspace\\images\\collectedimages\\orange\\3.jpg -> Annotation:H:/Jupyter Projects/TFOD/TFODCourse/Tensorflow/workspace/images/collectedimages/banana\\3.xml\n",
      "Image:H:\\Jupyter Projects\\TFOD\\TFODCourse\\Tensorflow\\workspace\\images\\collectedimages\\orange\\3.jpg -> Annotation:H:/Jupyter Projects/TFOD/TFODCourse/Tensorflow/workspace/images/collectedimages/orange\\3.xml\n",
      "Image:H:\\Jupyter Projects\\TFOD\\TFODCourse\\Tensorflow\\workspace\\images\\collectedimages\\apple\\1.jpg -> Annotation:H:/Jupyter Projects/TFOD/TFODCourse/Tensorflow/workspace/images/collectedimages/apple\\1.xml\n",
      "Image:H:\\Jupyter Projects\\TFOD\\TFODCourse\\Tensorflow\\workspace\\images\\collectedimages\\banana\\1.jpg -> Annotation:H:/Jupyter Projects/TFOD/TFODCourse/Tensorflow/workspace/images/collectedimages/banana\\1.xml\n",
      "Image:H:\\Jupyter Projects\\TFOD\\TFODCourse\\Tensorflow\\workspace\\images\\collectedimages\\banana\\3.jpg -> Annotation:H:/Jupyter Projects/TFOD/TFODCourse/Tensorflow/workspace/images/collectedimages/banana\\3.xml\n",
      "Image:H:\\Jupyter Projects\\TFOD\\TFODCourse\\Tensorflow\\workspace\\images\\collectedimages\\banana\\Image_11.png -> Annotation:H:/Jupyter Projects/TFOD/TFODCourse/Tensorflow/workspace/images/collectedimages/banana\\Image_11.xml\n",
      "Image:H:\\Jupyter Projects\\TFOD\\TFODCourse\\Tensorflow\\workspace\\images\\collectedimages\\banana\\Image_28.jpg -> Annotation:H:/Jupyter Projects/TFOD/TFODCourse/Tensorflow/workspace/images/collectedimages/banana\\Image_28.xml\n",
      "Image:H:\\Jupyter Projects\\TFOD\\TFODCourse\\Tensorflow\\workspace\\images\\collectedimages\\banana\\Image_43_1.png -> Annotation:H:/Jupyter Projects/TFOD/TFODCourse/Tensorflow/workspace/images/collectedimages/banana\\Image_43_1.xml\n",
      "Image:H:\\Jupyter Projects\\TFOD\\TFODCourse\\Tensorflow\\workspace\\images\\collectedimages\\banana\\3.jpg -> Annotation:H:/Jupyter Projects/TFOD/TFODCourse/Tensorflow/workspace/images/collectedimages/banana\\3.xml\n",
      "Image:H:\\Jupyter Projects\\TFOD\\TFODCourse\\Tensorflow\\workspace\\images\\collectedimages\\banana\\2.jpg -> Annotation:H:/Jupyter Projects/TFOD/TFODCourse/Tensorflow/workspace/images/collectedimages/banana\\2.xml\n",
      "Image:H:\\Jupyter Projects\\TFOD\\TFODCourse\\Tensorflow\\workspace\\images\\collectedimages\\banana\\1.jpg -> Annotation:H:/Jupyter Projects/TFOD/TFODCourse/Tensorflow/workspace/images/collectedimages/banana\\1.xml\n",
      "Image:H:\\Jupyter Projects\\TFOD\\TFODCourse\\Tensorflow\\workspace\\images\\collectedimages\\mango\\1.jpg -> Annotation:H:/Jupyter Projects/TFOD/TFODCourse/Tensorflow/workspace/images/collectedimages/mango\\1.xml\n",
      "Image:H:\\Jupyter Projects\\TFOD\\TFODCourse\\Tensorflow\\workspace\\images\\collectedimages\\mango\\2.jpg -> Annotation:H:/Jupyter Projects/TFOD/TFODCourse/Tensorflow/workspace/images/collectedimages/mango\\2.xml\n",
      "Image:H:\\Jupyter Projects\\TFOD\\TFODCourse\\Tensorflow\\workspace\\images\\collectedimages\\mango\\3.jpg -> Annotation:H:/Jupyter Projects/TFOD/TFODCourse/Tensorflow/workspace/images/collectedimages/mango\\3.xml\n",
      "Image:H:\\Jupyter Projects\\TFOD\\TFODCourse\\Tensorflow\\workspace\\images\\collectedimages\\mango\\4.jpg -> Annotation:H:/Jupyter Projects/TFOD/TFODCourse/Tensorflow/workspace/images/collectedimages/mango\\4.xml\n",
      "Image:H:\\Jupyter Projects\\TFOD\\TFODCourse\\Tensorflow\\workspace\\images\\collectedimages\\mango\\5.jpg -> Annotation:H:/Jupyter Projects/TFOD/TFODCourse/Tensorflow/workspace/images/collectedimages/mango\\5.xml\n",
      "Image:H:\\Jupyter Projects\\TFOD\\TFODCourse\\Tensorflow\\workspace\\images\\collectedimages\\mango\\6.jpg -> Annotation:H:/Jupyter Projects/TFOD/TFODCourse/Tensorflow/workspace/images/collectedimages/mango\\6.xml\n",
      "Image:H:\\Jupyter Projects\\TFOD\\TFODCourse\\Tensorflow\\workspace\\images\\collectedimages\\mango\\7.jpg -> Annotation:H:/Jupyter Projects/TFOD/TFODCourse/Tensorflow/workspace/images/collectedimages/mango\\7.xml\n",
      "Image:H:\\Jupyter Projects\\TFOD\\TFODCourse\\Tensorflow\\workspace\\images\\collectedimages\\mango\\8.jpg -> Annotation:H:/Jupyter Projects/TFOD/TFODCourse/Tensorflow/workspace/images/collectedimages/mango\\8.xml\n",
      "Image:H:\\Jupyter Projects\\TFOD\\TFODCourse\\Tensorflow\\workspace\\images\\collectedimages\\mango\\9.jpg -> Annotation:H:/Jupyter Projects/TFOD/TFODCourse/Tensorflow/workspace/images/collectedimages/mango\\9.xml\n",
      "Image:H:\\Jupyter Projects\\TFOD\\TFODCourse\\Tensorflow\\workspace\\images\\collectedimages\\mango\\10.jpg -> Annotation:H:/Jupyter Projects/TFOD/TFODCourse/Tensorflow/workspace/images/collectedimages/mango\\10.xml\n",
      "Image:H:\\Jupyter Projects\\TFOD\\TFODCourse\\Tensorflow\\workspace\\images\\collectedimages\\mango\\11.jpg -> Annotation:H:/Jupyter Projects/TFOD/TFODCourse/Tensorflow/workspace/images/collectedimages/mango\\11.xml\n",
      "Image:H:\\Jupyter Projects\\TFOD\\TFODCourse\\Tensorflow\\workspace\\images\\collectedimages\\mango\\13.jpg -> Annotation:H:/Jupyter Projects/TFOD/TFODCourse/Tensorflow/workspace/images/collectedimages/mango\\13.xml\n",
      "Image:H:\\Jupyter Projects\\TFOD\\TFODCourse\\Tensorflow\\workspace\\images\\collectedimages\\mango\\13.jpg -> Annotation:H:/Jupyter Projects/TFOD/TFODCourse/Tensorflow/workspace/images/collectedimages/mango\\13.xml\n",
      "Image:H:\\Jupyter Projects\\TFOD\\TFODCourse\\Tensorflow\\workspace\\images\\collectedimages\\mango\\15.jpg -> Annotation:H:/Jupyter Projects/TFOD/TFODCourse/Tensorflow/workspace/images/collectedimages/mango\\15.xml\n",
      "Image:H:\\Jupyter Projects\\TFOD\\TFODCourse\\Tensorflow\\workspace\\images\\collectedimages\\mango\\16.jpg -> Annotation:H:/Jupyter Projects/TFOD/TFODCourse/Tensorflow/workspace/images/collectedimages/mango\\16.xml\n",
      "Image:H:\\Jupyter Projects\\TFOD\\TFODCourse\\Tensorflow\\workspace\\images\\collectedimages\\mango\\18.jpg -> Annotation:H:/Jupyter Projects/TFOD/TFODCourse/Tensorflow/workspace/images/collectedimages/mango\\18.xml\n",
      "Image:H:\\Jupyter Projects\\TFOD\\TFODCourse\\Tensorflow\\workspace\\images\\collectedimages\\mango\\19.jpg -> Annotation:H:/Jupyter Projects/TFOD/TFODCourse/Tensorflow/workspace/images/collectedimages/mango\\19.xml\n",
      "Image:H:\\Jupyter Projects\\TFOD\\TFODCourse\\Tensorflow\\workspace\\images\\collectedimages\\mango\\22.jpg -> Annotation:H:/Jupyter Projects/TFOD/TFODCourse/Tensorflow/workspace/images/collectedimages/mango\\22.xml\n",
      "Image:H:\\Jupyter Projects\\TFOD\\TFODCourse\\Tensorflow\\workspace\\images\\collectedimages\\mango\\26.jpg -> Annotation:H:/Jupyter Projects/TFOD/TFODCourse/Tensorflow/workspace/images/collectedimages/mango\\26.xml\n",
      "Image:H:\\Jupyter Projects\\TFOD\\TFODCourse\\Tensorflow\\workspace\\images\\collectedimages\\mango\\28.jpg -> Annotation:H:/Jupyter Projects/TFOD/TFODCourse/Tensorflow/workspace/images/collectedimages/mango\\28.xml\n",
      "Image:H:\\Jupyter Projects\\TFOD\\TFODCourse\\Tensorflow\\workspace\\images\\collectedimages\\mango\\32.jpg -> Annotation:H:/Jupyter Projects/TFOD/TFODCourse/Tensorflow/workspace/images/collectedimages/mango\\32.xml\n",
      "Image:H:\\Jupyter Projects\\TFOD\\TFODCourse\\Tensorflow\\workspace\\images\\collectedimages\\mango\\36.jpg -> Annotation:H:/Jupyter Projects/TFOD/TFODCourse/Tensorflow/workspace/images/collectedimages/mango\\36.xml\n",
      "Image:H:\\Jupyter Projects\\TFOD\\TFODCourse\\Tensorflow\\workspace\\images\\collectedimages\\mango\\37.jpg -> Annotation:H:/Jupyter Projects/TFOD/TFODCourse/Tensorflow/workspace/images/collectedimages/mango\\37.xml\n",
      "Image:H:\\Jupyter Projects\\TFOD\\TFODCourse\\Tensorflow\\workspace\\images\\collectedimages\\mango\\37.jpg -> Annotation:H:/Jupyter Projects/TFOD/TFODCourse/Tensorflow/workspace/images/collectedimages/mango\\37.xml\n",
      "Image:H:\\Jupyter Projects\\TFOD\\TFODCourse\\Tensorflow\\workspace\\images\\collectedimages\\mango\\38.jpg -> Annotation:H:/Jupyter Projects/TFOD/TFODCourse/Tensorflow/workspace/images/collectedimages/mango\\38.xml\n",
      "Cancel creation.\n",
      "Image:H:\\Jupyter Projects\\TFOD\\TFODCourse\\Tensorflow\\workspace\\images\\collectedimages\\mango\\2cd43b_5bfcda5812cf4f6cbbc883b4c99dde25~mv2.png -> Annotation:H:/Jupyter Projects/TFOD/TFODCourse/Tensorflow/workspace/images/collectedimages/mango\\2cd43b_5bfcda5812cf4f6cbbc883b4c99dde25~mv2.xml\n",
      "Image:H:\\Jupyter Projects\\TFOD\\TFODCourse\\Tensorflow\\workspace\\images\\collectedimages\\mango\\12jpg.jpg -> Annotation:H:/Jupyter Projects/TFOD/TFODCourse/Tensorflow/workspace/images/collectedimages/mango\\12jpg.xml\n",
      "Image:H:\\Jupyter Projects\\TFOD\\TFODCourse\\Tensorflow\\workspace\\images\\collectedimages\\mango\\51FAHGE8nKL._SX466_.jpg -> Annotation:H:/Jupyter Projects/TFOD/TFODCourse/Tensorflow/workspace/images/collectedimages/mango\\51FAHGE8nKL._SX466_.xml\n",
      "Image:H:\\Jupyter Projects\\TFOD\\TFODCourse\\Tensorflow\\workspace\\images\\collectedimages\\mango\\220px-Mango_LangraBenarsi_Asit_fs8.jpg -> Annotation:H:/Jupyter Projects/TFOD/TFODCourse/Tensorflow/workspace/images/collectedimages/mango\\220px-Mango_LangraBenarsi_Asit_fs8.xml\n",
      "Image:H:\\Jupyter Projects\\TFOD\\TFODCourse\\Tensorflow\\workspace\\images\\collectedimages\\mango\\800px-Mango_TongDamAsit_ftg_20190402142739 - Copy - Copy.jpg -> Annotation:H:/Jupyter Projects/TFOD/TFODCourse/Tensorflow/workspace/images/collectedimages/mango\\800px-Mango_TongDamAsit_ftg_20190402142739 - Copy - Copy.xml\n",
      "Image:H:\\Jupyter Projects\\TFOD\\TFODCourse\\Tensorflow\\workspace\\images\\collectedimages\\mango\\15218019876_de86c3b379_z.jpg -> Annotation:H:/Jupyter Projects/TFOD/TFODCourse/Tensorflow/workspace/images/collectedimages/mango\\15218019876_de86c3b379_z.xml\n",
      "Image:H:\\Jupyter Projects\\TFOD\\TFODCourse\\Tensorflow\\workspace\\images\\collectedimages\\mango\\A-bunch-of-sadabahar-Mangoes.jpg_compress=true&quality=90&w=480&dpr=2.jpg -> Annotation:H:/Jupyter Projects/TFOD/TFODCourse/Tensorflow/workspace/images/collectedimages/mango\\A-bunch-of-sadabahar-Mangoes.jpg_compress=true&quality=90&w=480&dpr=2.xml\n",
      "Image:H:\\Jupyter Projects\\TFOD\\TFODCourse\\Tensorflow\\workspace\\images\\collectedimages\\mango\\badami-mango-250x250.jpg -> Annotation:H:/Jupyter Projects/TFOD/TFODCourse/Tensorflow/workspace/images/collectedimages/mango\\badami-mango-250x250.xml\n"
     ]
    },
    {
     "name": "stdout",
     "output_type": "stream",
     "text": [
      "Image:H:\\Jupyter Projects\\TFOD\\TFODCourse\\Tensorflow\\workspace\\images\\collectedimages\\mango\\bombay-green.jpg -> Annotation:H:/Jupyter Projects/TFOD/TFODCourse/Tensorflow/workspace/images/collectedimages/mango\\bombay-green.xml\n",
      "Image:H:\\Jupyter Projects\\TFOD\\TFODCourse\\Tensorflow\\workspace\\images\\collectedimages\\mango\\GettyImages-510600857-56e83db35f9b5854a9f9844c.jpg -> Annotation:H:/Jupyter Projects/TFOD/TFODCourse/Tensorflow/workspace/images/collectedimages/mango\\GettyImages-510600857-56e83db35f9b5854a9f9844c.xml\n",
      "Image:H:\\Jupyter Projects\\TFOD\\TFODCourse\\Tensorflow\\workspace\\images\\collectedimages\\mango\\Mango-trees-in-the-garden-quotes-wishes-greetings-messages-shayari-Meeta-Ahluwalia.jpg -> Annotation:H:/Jupyter Projects/TFOD/TFODCourse/Tensorflow/workspace/images/collectedimages/mango\\Mango-trees-in-the-garden-quotes-wishes-greetings-messages-shayari-Meeta-Ahluwalia.xml\n",
      "Image:H:\\Jupyter Projects\\TFOD\\TFODCourse\\Tensorflow\\workspace\\images\\collectedimages\\mango\\Mango_Himsagar_Asit_ftg.jpg -> Annotation:H:/Jupyter Projects/TFOD/TFODCourse/Tensorflow/workspace/images/collectedimages/mango\\Mango_Himsagar_Asit_ftg.xml\n",
      "Image:H:\\Jupyter Projects\\TFOD\\TFODCourse\\Tensorflow\\workspace\\images\\collectedimages\\mango\\orignal-mango - Copy.jpg -> Annotation:H:/Jupyter Projects/TFOD/TFODCourse/Tensorflow/workspace/images/collectedimages/mango\\orignal-mango - Copy.xml\n",
      "Image:H:\\Jupyter Projects\\TFOD\\TFODCourse\\Tensorflow\\workspace\\images\\collectedimages\\mango\\th_Aman_1.jpg -> Annotation:H:/Jupyter Projects/TFOD/TFODCourse/Tensorflow/workspace/images/collectedimages/mango\\th_Aman_1.xml\n",
      "Image:H:\\Jupyter Projects\\TFOD\\TFODCourse\\Tensorflow\\workspace\\images\\collectedimages\\mango\\th_Indian-mangoes-in-the-US_1.jpg -> Annotation:H:/Jupyter Projects/TFOD/TFODCourse/Tensorflow/workspace/images/collectedimages/mango\\th_Indian-mangoes-in-the-US_1.xml\n",
      "Image:H:\\Jupyter Projects\\TFOD\\TFODCourse\\Tensorflow\\workspace\\images\\collectedimages\\mango\\th_salemmango-combo_1.jpg -> Annotation:H:/Jupyter Projects/TFOD/TFODCourse/Tensorflow/workspace/images/collectedimages/mango\\th_salemmango-combo_1.xml\n",
      "Image:H:\\Jupyter Projects\\TFOD\\TFODCourse\\Tensorflow\\workspace\\images\\collectedimages\\mango\\th_Indian-mangoes-in-the-US_1.jpg -> Annotation:H:/Jupyter Projects/TFOD/TFODCourse/Tensorflow/workspace/images/collectedimages/mango\\th_Indian-mangoes-in-the-US_1.xml\n",
      "Image:H:\\Jupyter Projects\\TFOD\\TFODCourse\\Tensorflow\\workspace\\images\\collectedimages\\mango\\10000343_6-fresho-mango-neelam - Copy.jpg -> Annotation:H:/Jupyter Projects/TFOD/TFODCourse/Tensorflow/workspace/images/collectedimages/mango\\10000343_6-fresho-mango-neelam - Copy.xml\n"
     ]
    }
   ],
   "source": [
    "!cd {LABELIMG_PATH} && python labelImg.py"
   ]
  },
  {
   "cell_type": "markdown",
   "metadata": {},
   "source": [
    "# 6. Move them into a Training and Testing Partition"
   ]
  },
  {
   "cell_type": "markdown",
   "metadata": {},
   "source": [
    "# OPTIONAL - 7. Compress them for Colab Training"
   ]
  },
  {
   "cell_type": "code",
   "execution_count": 15,
   "metadata": {},
   "outputs": [],
   "source": [
    "TRAIN_PATH = os.path.join('Tensorflow', 'workspace', 'images', 'train')\n",
    "TEST_PATH = os.path.join('Tensorflow', 'workspace', 'images', 'test')\n",
    "ARCHIVE_PATH = os.path.join('Tensorflow', 'workspace', 'images', 'archive.tar.gz')"
   ]
  },
  {
   "cell_type": "code",
   "execution_count": 14,
   "metadata": {},
   "outputs": [
    {
     "name": "stderr",
     "output_type": "stream",
     "text": [
      "tar: Tensorflow/workspace/images/train: Couldn't find file: No such file or directory\n",
      "tar: Tensorflow/workspace/images/test: Couldn't find file: No such file or directory\n",
      "tar: Error exit delayed from previous errors.\n"
     ]
    }
   ],
   "source": [
    "!tar -czf {ARCHIVE_PATH} {TRAIN_PATH} {TEST_PATH}"
   ]
  },
  {
   "cell_type": "code",
   "execution_count": null,
   "metadata": {},
   "outputs": [],
   "source": []
  }
 ],
 "metadata": {
  "kernelspec": {
   "display_name": "tfod",
   "language": "python",
   "name": "tfod"
  },
  "language_info": {
   "codemirror_mode": {
    "name": "ipython",
    "version": 3
   },
   "file_extension": ".py",
   "mimetype": "text/x-python",
   "name": "python",
   "nbconvert_exporter": "python",
   "pygments_lexer": "ipython3",
   "version": "3.9.7"
  }
 },
 "nbformat": 4,
 "nbformat_minor": 2
}
